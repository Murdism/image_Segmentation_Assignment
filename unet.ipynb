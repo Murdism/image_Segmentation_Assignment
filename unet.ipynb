{
 "cells": [
  {
   "cell_type": "code",
   "execution_count": 71,
   "metadata": {},
   "outputs": [],
   "source": [
    "import torch.nn as nn\n",
    "from torchsummary import summary"
   ]
  },
  {
   "cell_type": "code",
   "execution_count": 72,
   "metadata": {},
   "outputs": [],
   "source": [
    "def conv_block(in_channels, out_channels):\n",
    "    return nn.Sequential(\n",
    "        nn.Conv2d(in_channels, out_channels, kernel_size=3, padding=1),\n",
    "        nn.ReLU(),\n",
    "        nn.Conv2d(out_channels, out_channels, kernel_size=3, padding=1),\n",
    "        nn.ReLU()\n",
    "    )"
   ]
  },
  {
   "cell_type": "code",
   "execution_count": 73,
   "metadata": {},
   "outputs": [],
   "source": [
    "import torch.nn as nn\n",
    "import torch.nn.functional as F\n",
    "\n",
    "class Model(nn.Module):\n",
    "    def __init__(self):\n",
    "        super().__init__()\n",
    "        self.mod = nn.Sequential(\n",
    "            nn.Conv2d(1, 64, 3),\n",
    "            nn.ReLU(True),\n",
    "            nn.Conv2d(64,64, 3),\n",
    "            nn.ReLU(True),\n",
    "            nn.MaxPool2d(2, 2),\n",
    "            nn.Conv2d(64,128, 3),\n",
    "            nn.ReLU(True),\n",
    "            nn.Conv2d(128,128, 3),\n",
    "            nn.ReLU(True)\n",
    "        )\n",
    "       #self.conv2 = nn.Conv2d(20, 20, 5)\n",
    "\n",
    "    def forward(self, x):\n",
    "        y = self.mod(x) \n",
    "        return (y)\n",
    "        # x = F.relu(self.conv1(x))\n",
    "        # return F.relu(self.conv2(x))"
   ]
  },
  {
   "cell_type": "code",
   "execution_count": 77,
   "metadata": {},
   "outputs": [],
   "source": [
    "class UNet(nn.Module):\n",
    "    def __init__(self):\n",
    "        super().__init__()\n",
    "        self.encode_conv1 = conv_block(1, 64)\n",
    "        self.encode_conv2 = conv_block(64, 128)\n",
    "        self.encode_conv3 = conv_block(128, 256)\n",
    "        self.encode_conv4 = conv_block(256, 512)\n",
    "        self.encode_conv5 = conv_block(512, 1024)\n",
    "        self.maxpool = nn.MaxPool2d(kernel_size=2, stride=2)\n",
    "\n",
    "    def forward(self, x):\n",
    "        # Encoder\n",
    "        x1 = self.encode_conv1(x)\n",
    "        x2 = self.maxpool(x1)\n",
    "        x3 = self.encode_conv2(x2)\n",
    "        x4 = self.maxpool(x3)\n",
    "        x5 = self.encode_conv3(x4)\n",
    "        x6 = self.maxpool(x5)\n",
    "        x7 = self.encode_conv4(x6)\n",
    "        x8 = self.maxpool(x7)\n",
    "        x9 = self.encode_conv5(x8)\n",
    "        print(\"Size:::::::\",x.size)\n",
    "\n",
    "\n",
    "        # self.conv2 = nn.Conv2d(20, 20, 5)\n",
    "        # self.max_pool = nn.MaxPool(kerner_size=2, stride=2)"
   ]
  },
  {
   "cell_type": "code",
   "execution_count": 78,
   "metadata": {},
   "outputs": [],
   "source": [
    "model = UNet()"
   ]
  },
  {
   "cell_type": "code",
   "execution_count": 79,
   "metadata": {},
   "outputs": [
    {
     "name": "stdout",
     "output_type": "stream",
     "text": [
      "Size::::::: <built-in method size of Tensor object at 0x11bc717b0>\n",
      "----------------------------------------------------------------\n",
      "        Layer (type)               Output Shape         Param #\n",
      "================================================================\n",
      "            Conv2d-1         [-1, 64, 572, 572]             640\n",
      "              ReLU-2         [-1, 64, 572, 572]               0\n",
      "            Conv2d-3         [-1, 64, 572, 572]          36,928\n",
      "              ReLU-4         [-1, 64, 572, 572]               0\n",
      "         MaxPool2d-5         [-1, 64, 286, 286]               0\n",
      "            Conv2d-6        [-1, 128, 286, 286]          73,856\n",
      "              ReLU-7        [-1, 128, 286, 286]               0\n",
      "            Conv2d-8        [-1, 128, 286, 286]         147,584\n",
      "              ReLU-9        [-1, 128, 286, 286]               0\n",
      "        MaxPool2d-10        [-1, 128, 143, 143]               0\n",
      "           Conv2d-11        [-1, 256, 143, 143]         295,168\n",
      "             ReLU-12        [-1, 256, 143, 143]               0\n",
      "           Conv2d-13        [-1, 256, 143, 143]         590,080\n",
      "             ReLU-14        [-1, 256, 143, 143]               0\n",
      "        MaxPool2d-15          [-1, 256, 71, 71]               0\n",
      "           Conv2d-16          [-1, 512, 71, 71]       1,180,160\n",
      "             ReLU-17          [-1, 512, 71, 71]               0\n",
      "           Conv2d-18          [-1, 512, 71, 71]       2,359,808\n",
      "             ReLU-19          [-1, 512, 71, 71]               0\n",
      "        MaxPool2d-20          [-1, 512, 35, 35]               0\n",
      "           Conv2d-21         [-1, 1024, 35, 35]       4,719,616\n",
      "             ReLU-22         [-1, 1024, 35, 35]               0\n",
      "           Conv2d-23         [-1, 1024, 35, 35]       9,438,208\n",
      "             ReLU-24         [-1, 1024, 35, 35]               0\n",
      "================================================================\n",
      "Total params: 18,842,048\n",
      "Trainable params: 18,842,048\n",
      "Non-trainable params: 0\n",
      "----------------------------------------------------------------\n",
      "Input size (MB): 1.25\n",
      "Forward/backward pass size (MB): 1309.89\n",
      "Params size (MB): 71.88\n",
      "Estimated Total Size (MB): 1383.02\n",
      "----------------------------------------------------------------\n"
     ]
    }
   ],
   "source": [
    "summary(model, input_size = (1, 572, 572))"
   ]
  }
 ],
 "metadata": {
  "kernelspec": {
   "display_name": "Python 3.10.6 ('segmentation')",
   "language": "python",
   "name": "python3"
  },
  "language_info": {
   "codemirror_mode": {
    "name": "ipython",
    "version": 3
   },
   "file_extension": ".py",
   "mimetype": "text/x-python",
   "name": "python",
   "nbconvert_exporter": "python",
   "pygments_lexer": "ipython3",
   "version": "3.10.6"
  },
  "orig_nbformat": 4,
  "vscode": {
   "interpreter": {
    "hash": "7c6cf681ed52ccdf5461de7f00a5396296db5e0f2a58b4d6a57334ba109c144f"
   }
  }
 },
 "nbformat": 4,
 "nbformat_minor": 2
}
