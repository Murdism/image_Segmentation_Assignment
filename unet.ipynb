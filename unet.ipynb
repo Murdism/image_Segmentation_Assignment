{
 "cells": [
  {
   "cell_type": "code",
   "execution_count": 11,
   "metadata": {},
   "outputs": [],
   "source": [
    "import torch.nn as nn\n",
    "from torchsummary import summary"
   ]
  },
  {
   "cell_type": "code",
   "execution_count": 65,
   "metadata": {},
   "outputs": [],
   "source": [
    "import torch.nn as nn\n",
    "import torch.nn.functional as F\n",
    "\n",
    "class Model(nn.Module):\n",
    "    def __init__(self):\n",
    "        super().__init__()\n",
    "        self.mod = nn.Sequential(\n",
    "            nn.Conv2d(1, 64, 3),\n",
    "            nn.ReLU(True),\n",
    "            nn.Conv2d(64,64, 3),\n",
    "            nn.ReLU(True),\n",
    "            nn.MaxPool2d(2, 2),\n",
    "            nn.Conv2d(64,128, 3),\n",
    "            nn.ReLU(True),\n",
    "            nn.Conv2d(128,128, 3),\n",
    "            nn.ReLU(True)\n",
    "        )\n",
    "       #self.conv2 = nn.Conv2d(20, 20, 5)\n",
    "\n",
    "    def forward(self, x):\n",
    "        y = self.mod(x) \n",
    "        return (y)\n",
    "        # x = F.relu(self.conv1(x))\n",
    "        # return F.relu(self.conv2(x))"
   ]
  },
  {
   "cell_type": "code",
   "execution_count": 9,
   "metadata": {},
   "outputs": [],
   "source": [
    "class UNet(nn.Module):\n",
    "    def __init__(self,IN_CHANNELS=1,OUT_CHANNELS=1,NUM_FILTERS=64,NUM_LAYERS=4):\n",
    "        super().__init__()\n",
    "        self.conv1 = nn.Conv2d()\n",
    "        # self.conv2 = nn.Conv2d(20, 20, 5)\n",
    "        # self.max_pool = nn.MaxPool(kerner_size=2, stride=2)"
   ]
  },
  {
   "cell_type": "code",
   "execution_count": 66,
   "metadata": {},
   "outputs": [],
   "source": [
    "model = Model()"
   ]
  },
  {
   "cell_type": "code",
   "execution_count": 57,
   "metadata": {},
   "outputs": [],
   "source": [
    "import torch"
   ]
  },
  {
   "cell_type": "code",
   "execution_count": 67,
   "metadata": {},
   "outputs": [
    {
     "name": "stdout",
     "output_type": "stream",
     "text": [
      "----------------------------------------------------------------\n",
      "        Layer (type)               Output Shape         Param #\n",
      "================================================================\n",
      "            Conv2d-1         [-1, 64, 570, 570]             640\n",
      "              ReLU-2         [-1, 64, 570, 570]               0\n",
      "            Conv2d-3         [-1, 64, 568, 568]          36,928\n",
      "              ReLU-4         [-1, 64, 568, 568]               0\n",
      "            Conv2d-5        [-1, 128, 566, 566]          73,856\n",
      "              ReLU-6        [-1, 128, 566, 566]               0\n",
      "            Conv2d-7        [-1, 128, 564, 564]         147,584\n",
      "              ReLU-8        [-1, 128, 564, 564]               0\n",
      "================================================================\n",
      "Total params: 259,008\n",
      "Trainable params: 259,008\n",
      "Non-trainable params: 0\n",
      "----------------------------------------------------------------\n",
      "Input size (MB): 1.25\n",
      "Forward/backward pass size (MB): 1879.32\n",
      "Params size (MB): 0.99\n",
      "Estimated Total Size (MB): 1881.56\n",
      "----------------------------------------------------------------\n"
     ]
    }
   ],
   "source": [
    "summary(model, input_size = (1, 572, 572))"
   ]
  }
 ],
 "metadata": {
  "kernelspec": {
   "display_name": "Python 3.10.6 ('segmentation')",
   "language": "python",
   "name": "python3"
  },
  "language_info": {
   "codemirror_mode": {
    "name": "ipython",
    "version": 3
   },
   "file_extension": ".py",
   "mimetype": "text/x-python",
   "name": "python",
   "nbconvert_exporter": "python",
   "pygments_lexer": "ipython3",
   "version": "3.10.6"
  },
  "orig_nbformat": 4,
  "vscode": {
   "interpreter": {
    "hash": "7c6cf681ed52ccdf5461de7f00a5396296db5e0f2a58b4d6a57334ba109c144f"
   }
  }
 },
 "nbformat": 4,
 "nbformat_minor": 2
}
